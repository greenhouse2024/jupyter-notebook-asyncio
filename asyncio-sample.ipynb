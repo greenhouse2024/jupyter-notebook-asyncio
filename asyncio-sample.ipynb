{
 "cells": [
  {
   "cell_type": "code",
   "execution_count": 1,
   "id": "01d31139-ae38-4bb3-ab4e-6ff16300d12e",
   "metadata": {},
   "outputs": [],
   "source": [
    "import asyncio"
   ]
  },
  {
   "cell_type": "code",
   "execution_count": 2,
   "id": "191ce1f9-bf7b-4a50-8ceb-27a2ecb22cfb",
   "metadata": {},
   "outputs": [],
   "source": [
    "async def func():\n",
    "    print(\"started.\")\n",
    "    await asyncio.sleep(2)\n",
    "    print(\"done.\")"
   ]
  },
  {
   "cell_type": "code",
   "execution_count": 3,
   "id": "db63044d-a2df-4949-b7b8-57edb6744d43",
   "metadata": {},
   "outputs": [
    {
     "name": "stdout",
     "output_type": "stream",
     "text": [
      "started.\n",
      "done.\n"
     ]
    }
   ],
   "source": [
    "await func()"
   ]
  },
  {
   "cell_type": "code",
   "execution_count": 4,
   "id": "f12ad865-9b75-4818-a3e8-639e8bddbf58",
   "metadata": {},
   "outputs": [
    {
     "name": "stdout",
     "output_type": "stream",
     "text": [
      "Finish!\n"
     ]
    }
   ],
   "source": [
    "print('Finish!')"
   ]
  }
 ],
 "metadata": {
  "kernelspec": {
   "display_name": "Python 3 (ipykernel)",
   "language": "python",
   "name": "python3"
  },
  "language_info": {
   "codemirror_mode": {
    "name": "ipython",
    "version": 3
   },
   "file_extension": ".py",
   "mimetype": "text/x-python",
   "name": "python",
   "nbconvert_exporter": "python",
   "pygments_lexer": "ipython3",
   "version": "3.12.4"
  }
 },
 "nbformat": 4,
 "nbformat_minor": 5
}
